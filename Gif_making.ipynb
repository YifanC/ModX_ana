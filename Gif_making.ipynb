{
 "cells": [
  {
   "cell_type": "code",
   "execution_count": null,
   "id": "37ca1d5b-a853-421b-bc0f-e19216c509b2",
   "metadata": {
    "tags": []
   },
   "outputs": [],
   "source": [
    "import imageio"
   ]
  },
  {
   "cell_type": "code",
   "execution_count": null,
   "id": "9b8ab4ce-2b0d-4857-a654-71b23ebc8dbe",
   "metadata": {
    "tags": []
   },
   "outputs": [],
   "source": [
    "f_plotlist = open(\"/global/homes/y/yifanch/ModX/plots/plotlist_occupancy_0-5_Efield_1.txt\",\"r\")\n",
    "names = f_plotlist.read().splitlines()"
   ]
  },
  {
   "cell_type": "code",
   "execution_count": null,
   "id": "829f06bc-1bd5-4fdb-be32-a752946a5ef9",
   "metadata": {
    "tags": []
   },
   "outputs": [],
   "source": [
    "E1_TPC12 = []\n",
    "\n",
    "for f_name in names:\n",
    "    E1_TPC12.append(f_name)\n",
    "\n",
    "with imageio.get_writer(f'plots/occupancy_norm_E0-5_1/TPC12/occupancy_0-5_Efield_TPC12.gif', mode='I', duration= 2) as writer:\n",
    "    for filename in E1_TPC12:\n",
    "        image = imageio.imread(filename)\n",
    "        writer.append_data(image)\n",
    "        "
   ]
  },
  {
   "cell_type": "code",
   "execution_count": null,
   "id": "9245d36d-e723-4a65-b9de-025e365955f4",
   "metadata": {
    "tags": []
   },
   "outputs": [],
   "source": [
    "f_plotlist = open(\"/global/homes/y/yifanch/ModX/plots/plotlist_occupancy_0-5_Efield_2.txt\",\"r\")\n",
    "names = f_plotlist.read().splitlines()"
   ]
  },
  {
   "cell_type": "code",
   "execution_count": null,
   "id": "4144f604-9bda-4011-b300-5084d1d83ed4",
   "metadata": {
    "tags": []
   },
   "outputs": [],
   "source": [
    "E2_TPC12 = []\n",
    "\n",
    "for f_name in names:\n",
    "    E2_TPC12.append(f_name)\n",
    "\n",
    "with imageio.get_writer(f'plots/occupancy_norm_E0-5_2/TPC12/occupancy_0-5_Efield_2_TPC12.gif', mode='I', duration= 2) as writer:\n",
    "    for filename in E2_TPC12:\n",
    "        image = imageio.imread(filename)\n",
    "        writer.append_data(image)"
   ]
  },
  {
   "cell_type": "code",
   "execution_count": null,
   "id": "35efe408-818d-42b3-a9aa-299653cadbe4",
   "metadata": {},
   "outputs": [],
   "source": []
  }
 ],
 "metadata": {
  "kernelspec": {
   "display_name": "NERSC Python",
   "language": "python",
   "name": "python3"
  },
  "language_info": {
   "codemirror_mode": {
    "name": "ipython",
    "version": 3
   },
   "file_extension": ".py",
   "mimetype": "text/x-python",
   "name": "python",
   "nbconvert_exporter": "python",
   "pygments_lexer": "ipython3",
   "version": "3.11.6"
  }
 },
 "nbformat": 4,
 "nbformat_minor": 5
}
